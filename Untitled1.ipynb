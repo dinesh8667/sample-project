{
 "cells": [
  {
   "cell_type": "code",
   "execution_count": 3,
   "id": "9105dd5b-8d0d-492f-8cde-acc7ffb277fb",
   "metadata": {},
   "outputs": [
    {
     "name": "stdin",
     "output_type": "stream",
     "text": [
      "Enter the number: 532\n"
     ]
    },
    {
     "name": "stdout",
     "output_type": "stream",
     "text": [
      "30\n"
     ]
    }
   ],
   "source": [
    "a=int(input(\"Enter the number:\"))\n",
    "b=1\n",
    "while a>0:\n",
    "    mul=a%10\n",
    "    b=b*mul\n",
    "    a=a//10\n",
    "print(b)"
   ]
  },
  {
   "cell_type": "code",
   "execution_count": 15,
   "id": "80177b58-a470-4126-be77-74acff02b461",
   "metadata": {},
   "outputs": [
    {
     "ename": "TypeError",
     "evalue": "'str' object cannot be interpreted as an integer",
     "output_type": "error",
     "traceback": [
      "\u001b[1;31m---------------------------------------------------------------------------\u001b[0m",
      "\u001b[1;31mTypeError\u001b[0m                                 Traceback (most recent call last)",
      "Cell \u001b[1;32mIn[15], line 2\u001b[0m\n\u001b[0;32m      1\u001b[0m a\u001b[38;5;241m=\u001b[39m\u001b[38;5;124m\"\u001b[39m\u001b[38;5;124mmy name is dinesh\u001b[39m\u001b[38;5;124m\"\u001b[39m\n\u001b[1;32m----> 2\u001b[0m \u001b[38;5;28;01mfor\u001b[39;00m b \u001b[38;5;129;01min\u001b[39;00m \u001b[38;5;28mrange\u001b[39m(\u001b[38;5;241m0\u001b[39m,a):\n\u001b[0;32m      3\u001b[0m     b\u001b[38;5;241m=\u001b[39ma\u001b[38;5;241m.\u001b[39mupper()\n\u001b[0;32m      4\u001b[0m     \u001b[38;5;28mprint\u001b[39m(b)\n",
      "\u001b[1;31mTypeError\u001b[0m: 'str' object cannot be interpreted as an integer"
     ]
    }
   ],
   "source": [
    "a=\"my name is dinesh\"\n",
    "for b in range(0,a):\n",
    "    b=a.upper()\n",
    "    print(b)\n"
   ]
  },
  {
   "cell_type": "code",
   "execution_count": 23,
   "id": "c3b03b7b-f6c0-4131-8f97-f6dfce3a4be0",
   "metadata": {},
   "outputs": [
    {
     "name": "stdin",
     "output_type": "stream",
     "text": [
      "enter the number: 3696\n"
     ]
    },
    {
     "name": "stdout",
     "output_type": "stream",
     "text": [
      "The sum of the given number is: 24\n"
     ]
    }
   ],
   "source": [
    "#find the sum of numbers using for loop\n",
    "a=input(\"enter the number:\")\n",
    "sum=0\n",
    "for i in a:\n",
    "    sum=sum+int(i)\n",
    "print(\"The sum of the given number is:\",sum)\n"
   ]
  },
  {
   "cell_type": "code",
   "execution_count": 24,
   "id": "4bb6717a-a30b-4c69-b5c0-6a421407bc79",
   "metadata": {},
   "outputs": [
    {
     "name": "stdout",
     "output_type": "stream",
     "text": [
      "My name is dinesH\n"
     ]
    }
   ],
   "source": [
    "a = \"my name is dinesh\"  \n",
    "if len(a) > 1:  \n",
    "    result = a[0].upper() + a[1:-1] + a[-1].upper()  \n",
    "else:  \n",
    "    result = a.upper()  # Handle case where string length is 1  \n",
    "print(result)  "
   ]
  },
  {
   "cell_type": "code",
   "execution_count": 54,
   "id": "16ad2a38-ce2c-450b-a831-7225e047629f",
   "metadata": {},
   "outputs": [
    {
     "name": "stdin",
     "output_type": "stream",
     "text": [
      "Enter the number: 10\n"
     ]
    },
    {
     "name": "stdout",
     "output_type": "stream",
     "text": [
      "20\n"
     ]
    }
   ],
   "source": [
    "#To find the sum of even numbers\n",
    "a=int(input(\"Enter the number:\"))\n",
    "sum=0\n",
    "for i in range(2,a,2):\n",
    "    sum=sum+i\n",
    "print(sum)\n",
    "        "
   ]
  },
  {
   "cell_type": "code",
   "execution_count": 55,
   "id": "ff3791e9-9ae2-430d-b195-0d806c300d2c",
   "metadata": {},
   "outputs": [
    {
     "name": "stdin",
     "output_type": "stream",
     "text": [
      "Enter the number: 50\n"
     ]
    },
    {
     "name": "stdout",
     "output_type": "stream",
     "text": [
      "625\n"
     ]
    }
   ],
   "source": [
    "#To find the sum of odd numbers\n",
    "a=int(input(\"Enter the number:\"))\n",
    "sum=0\n",
    "for i in range(1,a,2):\n",
    "    sum=sum+i\n",
    "print(sum)"
   ]
  },
  {
   "cell_type": "code",
   "execution_count": 59,
   "id": "13c0bec1-b693-466d-ab62-6ae445106987",
   "metadata": {},
   "outputs": [
    {
     "name": "stdout",
     "output_type": "stream",
     "text": [
      "1225\n"
     ]
    }
   ],
   "source": [
    "#To find the sum os natural numbers\n",
    "s=0\n",
    "for i in range(0,50):\n",
    "    s=s+i\n",
    "print(s)"
   ]
  },
  {
   "cell_type": "code",
   "execution_count": 84,
   "id": "29cd8ce9-c849-462e-9cf3-7b87a9977c95",
   "metadata": {},
   "outputs": [
    {
     "name": "stdin",
     "output_type": "stream",
     "text": [
      "enter the number: 5\n"
     ]
    },
    {
     "name": "stdout",
     "output_type": "stream",
     "text": [
      "1\n",
      "2\n",
      "3\n",
      "4\n",
      "5\n"
     ]
    }
   ],
   "source": [
    "a=int(input(\"enter the number:\"))\n",
    "for i in range(1,a+1):\n",
    "    mul=mul\n",
    "    "
   ]
  },
  {
   "cell_type": "markdown",
   "id": "d94e93e9-2422-4db0-8b37-71b09e2421d2",
   "metadata": {
    "jp-MarkdownHeadingCollapsed": true
   },
   "source": []
  },
  {
   "cell_type": "code",
   "execution_count": 40,
   "id": "4f62f2d1-9884-4bc5-a731-5c7f48cfed93",
   "metadata": {},
   "outputs": [
    {
     "name": "stdin",
     "output_type": "stream",
     "text": [
      "enter the number: 8\n"
     ]
    },
    {
     "name": "stdout",
     "output_type": "stream",
     "text": [
      "1\n",
      "2\n",
      "4\n"
     ]
    }
   ],
   "source": [
    "a=int(input(\"enter the number:\"))\n",
    "for i in range(1,a):\n",
    "    if a%i==0:\n",
    "        print(i)"
   ]
  },
  {
   "cell_type": "code",
   "execution_count": 4,
   "id": "265cc057-0619-4c9f-bad8-5ce3e58684b9",
   "metadata": {},
   "outputs": [
    {
     "name": "stdin",
     "output_type": "stream",
     "text": [
      "Enter the number: 123\n"
     ]
    },
    {
     "name": "stdout",
     "output_type": "stream",
     "text": [
      "6\n"
     ]
    }
   ],
   "source": [
    "#find the sum of the digit using while loop\n",
    "def sum_of_number(a):\n",
    "    sum=0\n",
    "    while (a>0):\n",
    "        b=a%10\n",
    "        sum=sum+b\n",
    "        a=a//10\n",
    "    return sum\n",
    "a=int(input(\"Enter the number:\"))\n",
    "print(sum_of_number(a))"
   ]
  },
  {
   "cell_type": "code",
   "execution_count": 11,
   "id": "742bd043-c944-4e36-8332-704fa64ad7a1",
   "metadata": {},
   "outputs": [
    {
     "name": "stdin",
     "output_type": "stream",
     "text": [
      "Enter the number: 369\n"
     ]
    },
    {
     "name": "stdout",
     "output_type": "stream",
     "text": [
      "162\n"
     ]
    }
   ],
   "source": [
    "#find the sum of the digit using for loop\n",
    "def sum_of_total(n):\n",
    "    s=1\n",
    "    for i in n:\n",
    "        s=s*int(i)\n",
    "    return s\n",
    "n=input(\"Enter the number:\")\n",
    "print(sum_of_total(n))"
   ]
  },
  {
   "cell_type": "code",
   "execution_count": 14,
   "id": "b2cbd821-517c-4c7a-aae5-e2178cc45b79",
   "metadata": {},
   "outputs": [
    {
     "ename": "SyntaxError",
     "evalue": "invalid syntax (1621961750.py, line 6)",
     "output_type": "error",
     "traceback": [
      "\u001b[1;36m  Cell \u001b[1;32mIn[14], line 6\u001b[1;36m\u001b[0m\n\u001b[1;33m    return for\u001b[0m\n\u001b[1;37m           ^\u001b[0m\n\u001b[1;31mSyntaxError\u001b[0m\u001b[1;31m:\u001b[0m invalid syntax\n"
     ]
    }
   ],
   "source": [
    "def factor(a):\n",
    "    a=int(input(\"enter the number:\"))\n",
    "    for i in range(1,a):\n",
    "        if a%i==0:\n",
    "            print(i)\n",
    "    return a"
   ]
  },
  {
   "cell_type": "code",
   "execution_count": 16,
   "id": "031c7438-cd43-4a98-bbd7-67056397cb45",
   "metadata": {},
   "outputs": [
    {
     "name": "stdin",
     "output_type": "stream",
     "text": [
      "enter the number: 10\n"
     ]
    },
    {
     "name": "stdout",
     "output_type": "stream",
     "text": [
      "[1, 2, 5, 10]\n"
     ]
    }
   ],
   "source": [
    "#find the factrores without using function\n",
    "a=int(input(\"enter the number:\"))\n",
    "b=[]\n",
    "for i in range(1,a+1):\n",
    "    if a%i==0:\n",
    "        b.append(i)\n",
    "print(b)"
   ]
  },
  {
   "cell_type": "code",
   "execution_count": 33,
   "id": "1135d482-e4e0-4392-a69c-57868f4eb0e7",
   "metadata": {},
   "outputs": [
    {
     "name": "stdin",
     "output_type": "stream",
     "text": [
      "Enter the number: 9\n"
     ]
    },
    {
     "name": "stdout",
     "output_type": "stream",
     "text": [
      "Not prime\n",
      "None\n"
     ]
    }
   ],
   "source": [
    "#find the number is prime or not\n",
    "def prime(a):\n",
    "    for i in range(2,a):\n",
    "        if a%i==0:\n",
    "            print(\"Not prime\")\n",
    "            break\n",
    "    else:\n",
    "        print(\"Prime\")\n",
    "    return\n",
    "a=int(input(\"Enter the number:\"))\n",
    "print(prime(a))"
   ]
  },
  {
   "cell_type": "code",
   "execution_count": 20,
   "id": "1994272d-969e-4b02-ac39-c96af55f8874",
   "metadata": {},
   "outputs": [
    {
     "name": "stdin",
     "output_type": "stream",
     "text": [
      "enter rthe number: 10\n"
     ]
    },
    {
     "name": "stdout",
     "output_type": "stream",
     "text": [
      "[1, 2, 5, 10]\n"
     ]
    }
   ],
   "source": [
    "#find the factotrs with function\n",
    "def divide(a):\n",
    "    b=[]\n",
    "    for i in range(1,a+1):\n",
    "        if a%i==0:\n",
    "            b.append(i)\n",
    "    return b\n",
    "a=int(input(\"enter rthe number:\"))\n",
    "print(divide(a))"
   ]
  },
  {
   "cell_type": "code",
   "execution_count": 41,
   "id": "7ff2c005-0325-4d59-a410-5136b9f5a085",
   "metadata": {},
   "outputs": [
    {
     "name": "stdin",
     "output_type": "stream",
     "text": [
      "Enter the number: 7\n"
     ]
    },
    {
     "name": "stdout",
     "output_type": "stream",
     "text": [
      "True\n"
     ]
    }
   ],
   "source": [
    "#find the prim using with already created function\n",
    "def prime_no(a):\n",
    "    return(divide(a)==[1,a])\n",
    "a=int(input(\"Enter the number:\"))\n",
    "print(prime_no(a))"
   ]
  },
  {
   "cell_type": "code",
   "execution_count": 42,
   "id": "401c9369-d82e-4731-a266-84850fce37bd",
   "metadata": {},
   "outputs": [
    {
     "name": "stdin",
     "output_type": "stream",
     "text": [
      "enter the number: 1234\n"
     ]
    },
    {
     "name": "stdout",
     "output_type": "stream",
     "text": [
      "4321\n"
     ]
    }
   ],
   "source": [
    "#to reverse the number\n",
    "def reverse(a):\n",
    "    rev=0\n",
    "    while a>0:\n",
    "        n=a%10\n",
    "        rev=rev*10+n\n",
    "        a=a//10\n",
    "    return rev\n",
    "a=int(input(\"enter the number:\"))\n",
    "print(reverse(a))"
   ]
  },
  {
   "cell_type": "code",
   "execution_count": 51,
   "id": "3e3e56e0-0eb3-4ae9-bd9e-e5d2ec92d548",
   "metadata": {},
   "outputs": [
    {
     "name": "stdout",
     "output_type": "stream",
     "text": [
      "[2, 3, 5, 7, 11, 13, 17, 19, 23, 29, 31, 37, 41, 43, 47, 53, 59, 61, 67, 71, 73, 79, 83, 89, 97]\n"
     ]
    }
   ],
   "source": [
    "#find the prime number between 0-100 \n",
    "prime=[]\n",
    "for i in range(1,101):\n",
    "    if(prime_no(i)):\n",
    "        prime.append(i)\n",
    "print(prime)"
   ]
  },
  {
   "cell_type": "code",
   "execution_count": null,
   "id": "7916e8dc-efca-4cb9-aaaa-0b6fc3f4269c",
   "metadata": {},
   "outputs": [],
   "source": []
  }
 ],
 "metadata": {
  "kernelspec": {
   "display_name": "Python 3 (ipykernel)",
   "language": "python",
   "name": "python3"
  },
  "language_info": {
   "codemirror_mode": {
    "name": "ipython",
    "version": 3
   },
   "file_extension": ".py",
   "mimetype": "text/x-python",
   "name": "python",
   "nbconvert_exporter": "python",
   "pygments_lexer": "ipython3",
   "version": "3.12.7"
  }
 },
 "nbformat": 4,
 "nbformat_minor": 5
}
